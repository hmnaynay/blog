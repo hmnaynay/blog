{
 "cells": [
  {
   "cell_type": "code",
   "execution_count": null,
   "metadata": {},
   "outputs": [],
   "source": [
    "from flask import Flask, render_template, redirect, request, url_for"
   ]
  },
  {
   "cell_type": "code",
   "execution_count": null,
   "metadata": {},
   "outputs": [],
   "source": [
    "# The basics\n",
    "@app.route('/')\n",
    "def index():\n",
    "    return render_template('index.jinja')"
   ]
  },
  {
   "cell_type": "code",
   "execution_count": 13,
   "metadata": {},
   "outputs": [
    {
     "name": "stdout",
     "output_type": "stream",
     "text": [
      "id:  3\n",
      "title:  A Title\n",
      "content:  content\n",
      "\n",
      "id:  7\n",
      "title:  A\n",
      "content:  b\n",
      "\n",
      "id:  3\n",
      "title:  new title\n",
      "content:  content\n"
     ]
    }
   ],
   "source": [
    "# Simple data storage\n",
    "from models import Post\n",
    "\n",
    "\n",
    "# Create new post\n",
    "p = Post.new(\"a title\", \"content\")\n",
    "\n",
    "Post.new(title, content)\n",
    "\n",
    "\n",
    "old_id = p.id\n",
    "print(\"id: \", p.id)\n",
    "print(\"title: \", p.title)\n",
    "print(\"content: \", p.content)\n",
    "print()\n",
    "# Change title.\n",
    "p.title = \"new title\"\n",
    "\n",
    "# Create another new post.\n",
    "p = Post.new(\"a\", \"b\")\n",
    "print(\"id: \", p.id)\n",
    "print(\"title: \", p.title)\n",
    "print(\"content: \", p.content)\n",
    "print()\n",
    "\n",
    "# Get old post\n",
    "p = Post(old_id)\n",
    "print(\"id: \", p.id)\n",
    "print(\"title: \", p.title)\n",
    "print(\"content: \", p.content)\n"
   ]
  },
  {
   "cell_type": "code",
   "execution_count": 12,
   "metadata": {},
   "outputs": [],
   "source": [
    "# Task 1 - Add a route for new posts.\n",
    "# All templates have been created. see templates/"
   ]
  },
  {
   "cell_type": "code",
   "execution_count": null,
   "metadata": {},
   "outputs": [],
   "source": [
    "# Example of Retriving data\n",
    "# See: http://flask.pocoo.org/docs/0.12/quickstart/\n",
    "\n",
    "                             # both GET and POST\n",
    "@app.route('/enter-details', methods=['GET', 'POST'])\n",
    "def example():\n",
    "    # To start, just return a form.\n",
    "    if request.method != 'POST':\n",
    "        return render_template('details')\n",
    "        \n",
    "    # Get Data from form.    \n",
    "    item = request.form['item']\n",
    "    \n",
    "    # Do something with the data...\n",
    "\n",
    "    # redirect to another page\n",
    "    return redirect(url_for(\"page\"))"
   ]
  },
  {
   "cell_type": "code",
   "execution_count": null,
   "metadata": {},
   "outputs": [],
   "source": [
    "# Task 2 - Add Seperate link for each post\n",
    "# See: http://flask.pocoo.org/docs/0.12/patterns/urlprocessors/\n",
    "\n",
    "# It explains how to have routes that contain varibles.\n"
   ]
  },
  {
   "cell_type": "code",
   "execution_count": null,
   "metadata": {},
   "outputs": [],
   "source": []
  }
 ],
 "metadata": {
  "kernelspec": {
   "display_name": "Python 3",
   "language": "python",
   "name": "python3"
  },
  "language_info": {
   "codemirror_mode": {
    "name": "ipython",
    "version": 3
   },
   "file_extension": ".py",
   "mimetype": "text/x-python",
   "name": "python",
   "nbconvert_exporter": "python",
   "pygments_lexer": "ipython3",
   "version": "3.6.4"
  }
 },
 "nbformat": 4,
 "nbformat_minor": 2
}
